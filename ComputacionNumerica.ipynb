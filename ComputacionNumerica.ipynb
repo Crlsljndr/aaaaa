{
 "cells": [
  {
   "cell_type": "markdown",
   "id": "8298beca",
   "metadata": {},
   "source": [
    "Nombres : Diego Bravo       19.806.607-9\n",
    "          Matias Morales    20.305.081-K\n",
    "          Vicente Reyes     20.564.697-3\n",
    "          Jose Sepulveda    20.563.679-k\n",
    "          Sofia Silva       20.376.851-6\n",
    "          Carlos Tapia      20.563.351-0\n",
    "          "
   ]
  },
  {
   "cell_type": "markdown",
   "id": "7dd4413e",
   "metadata": {},
   "source": [
    "En el presente trabajo de investigación se plantea la resolución de un problema de aplicación ingenieril por tres metodos de cálculo de raices para ecuaciones no lineales, para el cual realizaremos la comparación de eficiencia entre los metodos de bisección, falsa posición y falsa posición modificado. Con esto se apunta a conocer cual de los procedimientos es más efectivo y cual es posiblemente más consistente."
   ]
  },
  {
   "cell_type": "code",
   "execution_count": 21,
   "id": "9cc5a969",
   "metadata": {},
   "outputs": [
    {
     "data": {
      "image/png": "[encoded data removed]",
      "text/plain": [
       "<Figure size 432x288 with 1 Axes>"
      ]
     },
     "metadata": {
      "needs_background": "light"
     },
     "output_type": "display_data"
    }
   ],
   "source": [
    "import numpy as np\n",
    "import matplotlib.pyplot as plt\n",
    "\n",
    "def h(x):\n",
    "    return (1-(400/(9.81*( (3*x+((x**2)/2))**3)))*((3+x)))\n",
    "v = [0.5,2.5,-5,5]\n",
    "np.seterr(divide='ignore', invalid='ignore')\n",
    "x=np.linspace(0,10,100)\n",
    "plt.plot(x,h(x),'blue',label='funcion')\n",
    "plt.axhline(0, color=\"gray\")\n",
    "\n",
    "plt.legend(loc=1)\n",
    "plt.axis(v)\n",
    "plt.grid()\n"
   ]
  },
  {
   "cell_type": "markdown",
   "id": "1406db31",
   "metadata": {},
   "source": []
  },
  {
   "cell_type": "code",
   "execution_count": 34,
   "id": "27be92bf",
   "metadata": {
    "scrolled": true
   },
   "outputs": [
    {
     "name": "stdout",
     "output_type": "stream",
     "text": [
      "Iteración :  0 - 10\n",
      "La solución aproximada en la i-esima iteración es x= 1.5\n",
      "Error absoluto = 1.0\n",
      "------------------------------------------\n",
      "Iteración :  1 - 10\n",
      "La solución aproximada en la i-esima iteración es x= 2.0\n",
      "Error absoluto = 0.5\n",
      "------------------------------------------\n",
      "Iteración :  2 - 10\n",
      "La solución aproximada en la i-esima iteración es x= 1.75\n",
      "Error absoluto = 0.25\n",
      "------------------------------------------\n",
      "Iteración :  3 - 10\n",
      "La solución aproximada en la i-esima iteración es x= 1.625\n",
      "Error absoluto = 0.125\n",
      "------------------------------------------\n",
      "Iteración :  4 - 10\n",
      "La solución aproximada en la i-esima iteración es x= 1.5625\n",
      "Error absoluto = 0.0625\n",
      "------------------------------------------\n",
      "Iteración :  5 - 10\n",
      "La solución aproximada en la i-esima iteración es x= 1.53125\n",
      "Error absoluto = 0.03125\n",
      "------------------------------------------\n",
      "Iteración :  6 - 10\n",
      "La solución aproximada en la i-esima iteración es x= 1.515625\n",
      "Error absoluto = 0.015625\n",
      "------------------------------------------\n",
      "Iteración :  7 - 10\n",
      "La solución aproximada en la i-esima iteración es x= 1.5078125\n",
      "Error absoluto = 0.0078125\n",
      "------------------------------------------\n",
      "[100.0, 50.0, 25.0, 12.5, 6.25, 3.125, 1.5625, 0.78125]\n",
      "El tiempo de ejecucion es :  0.004006385803222656\n"
     ]
    }
   ],
   "source": [
    "# METODO DE BISECCIÓN\n",
    "import matplotlib.pyplot as plt\n",
    "from sympy.solvers import solve\n",
    "from sympy import*\n",
    "import numpy as np\n",
    "import time\n",
    "\n",
    "\n",
    "\n",
    "#Calcular la raiz real de la ecuación f(x)=xe^x - pi = 0. Suponer que se desea que el error sea menor que e=0.000001\n",
    "def f(x): return (1-(400/(9.81*( (3*x+((x**2)/2))**3)))*((3+x)))\n",
    "inicio = time.time()\n",
    "a=0.5\n",
    "b=2.5\n",
    "e=0.01\n",
    "r=0\n",
    "S=[a]\n",
    "Error=[1]\n",
    "relativo = [np.absolute((b-a)/(b))]\n",
    "Conv = []\n",
    "lista1=[]\n",
    "while relativo[r]>e and r<=10 :\n",
    "    print(\"Iteración : \",r,\"-\",10)\n",
    "    r = r+1\n",
    "    c=(a+b)/2\n",
    "    print(\"La solución aproximada en la i-esima iteración es x=\",c)\n",
    "    if f(c)==0:\n",
    "        print(\"La solución obtiene en x=\",c)\n",
    "    else:\n",
    "        if f(a)*f(c)>0:\n",
    "            a=c\n",
    "        else:\n",
    "            b=c\n",
    "    Anterior = r-1\n",
    "    S.append(c)\n",
    "    absoluto = np.absolute(S[r]-S[Anterior])\n",
    "    rela = np.absolute((S[r]-S[Anterior])/S[r])\n",
    "    relativo.append(rela)\n",
    "    Error.append(absoluto)\n",
    "    lista1.append(absoluto*100)\n",
    "    Razon = (Error[r]/Error[1])\n",
    "    Conv.append(Razon)\n",
    "    print(\"Error absoluto =\",absoluto)\n",
    "    #print(\"Error relativo =\",relativo[r])\n",
    "    #print(\"Razón convergencia =\",Conv)\n",
    "    print(\"------------------------------------------\")\n",
    "fin = time.time()\n",
    "print(lista1)\n",
    "print(\"El tiempo de ejecucion es : \",fin-inicio)"
   ]
  },
  {
   "cell_type": "markdown",
   "id": "cf6eafab",
   "metadata": {},
   "source": [
    "En la ejecución del primer algoritmo podemos notar que este concluye antes de alcanzar la decima iteración debido a que alcanzó un indice de error inferior al 1%, también podemos destacar que la solución encontrada se aproxima mucho al valor real pero falla por algunas milesimas."
   ]
  },
  {
   "cell_type": "code",
   "execution_count": 41,
   "id": "cd7c1831",
   "metadata": {
    "scrolled": true
   },
   "outputs": [
    {
     "name": "stdout",
     "output_type": "stream",
     "text": [
      "Iteración :  1 - 10\n",
      "Error Abs :  100.0\n",
      "-32.258214681590175  /  0.7998732909044218  /  0.8130321830223047\n",
      "La solución aproximada en la i-esima iteración es x= 2.4508314768807655\n",
      "------------------------------------------\n",
      "Iteración :  2 - 10\n",
      "Error Abs :  1.9637932029769514\n",
      "-32.258214681590175  /  0.7861233019120436  /  0.7998732909044218\n",
      "La solución aproximada en la i-esima iteración es x= 2.403629170603679\n",
      "------------------------------------------\n",
      "Iteración :  3 - 10\n",
      "Error Abs :  1.920300498660325\n",
      "-32.258214681590175  /  0.7717920956618608  /  0.7861233019120436\n",
      "La solución aproximada en la i-esima iteración es x= 2.3583419189735153\n",
      "------------------------------------------\n",
      "Iteración :  4 - 10\n",
      "Error Abs :  1.8757780745838666\n",
      "-32.258214681590175  /  0.7568937949442244  /  0.7717920956618608\n",
      "La solución aproximada en la i-esima iteración es x= 2.3149191726878975\n",
      "------------------------------------------\n",
      "Iteración :  5 - 10\n",
      "Error Abs :  1.8302932043515767\n",
      "-32.258214681590175  /  0.7414468702852016  /  0.7568937949442244\n",
      "La solución aproximada en la i-esima iteración es x= 2.273310917451991\n",
      "------------------------------------------\n",
      "Iteración :  6 - 10\n",
      "Error Abs :  1.7839216686624157\n",
      "-32.258214681590175  /  0.7254741815963963  /  0.7414468702852016\n",
      "La solución aproximada en la i-esima iteración es x= 2.2334676048858766\n",
      "------------------------------------------\n",
      "Iteración :  7 - 10\n",
      "Error Abs :  1.736747399368198\n",
      "-32.258214681590175  /  0.7090029514072613  /  0.7254741815963963\n",
      "La solución aproximada en la i-esima iteración es x= 2.19534009291489\n",
      "------------------------------------------\n",
      "Iteración :  8 - 10\n",
      "Error Abs :  1.688861979970769\n",
      "-32.258214681590175  /  0.6920646657810262  /  0.7090029514072613\n",
      "La solución aproximada en la i-esima iteración es x= 2.1588795962209675\n",
      "------------------------------------------\n",
      "Iteración :  9 - 10\n",
      "Error Abs :  1.6403640052907416\n",
      "-32.258214681590175  /  0.6746949009031771  /  0.6920646657810262\n",
      "La solución aproximada en la i-esima iteración es x= 2.124037647197515\n",
      "------------------------------------------\n",
      "Iteración :  10 - 10\n",
      "Error Abs :  1.5913583072297577\n",
      "-32.258214681590175  /  0.6569330754349887  /  0.6746949009031771\n",
      "La solución aproximada en la i-esima iteración es x= 2.0907660676945174\n",
      "------------------------------------------\n",
      "El tiempo de ejecucion es :  0.00599980354309082\n"
     ]
    }
   ],
   "source": [
    "# METODO FALSA POSICION\n",
    "import matplotlib.pyplot as plt\n",
    "from sympy.solvers import solve\n",
    "from sympy import*\n",
    "import numpy as np\n",
    "import time\n",
    "\n",
    "\n",
    "def f(x): return (1-(400/(9.81*( (3*x+((x**2)/2))**3)))*((3+x)))\n",
    "inicio = time.time()\n",
    "Estado = 'True'\n",
    "xi=0.5\n",
    "xu=2.5\n",
    "xr=0\n",
    "e=1\n",
    "i = 0\n",
    "fi=f(xi)\n",
    "fu=f(xu)\n",
    "imax = 10\n",
    "lista2=[]\n",
    "\n",
    "while Estado == 'True' :\n",
    "    xrant=xr\n",
    "    xr = xu-fu*(xi-xu)/(fi-fu)\n",
    "    fr=f(xr)\n",
    "    i = i + 1\n",
    "    print(\"Iteración : \",i,\"-\",imax)\n",
    "    if xr != 0:\n",
    "        eabs = np.absolute((xr-xrant)/(xr))*100\n",
    "        print(\"Error Abs : \",eabs)\n",
    "        lista2.append(eabs)\n",
    "    test = fi*fr\n",
    "    print(fi,\" / \",fr,\" / \",fu)\n",
    "    if test < 0:\n",
    "        xu = xr\n",
    "        fu = f(xu)\n",
    "    else:\n",
    "        xi = xr\n",
    "        fi = f(xi)\n",
    "    if i >= imax or eabs <= e:\n",
    "        Estado = 'False'\n",
    "        if eabs < e:\n",
    "            print(\"El error alcanzo el 1%\")\n",
    "    print(\"La solución aproximada en la i-esima iteración es x=\",xr)\n",
    "    print(\"------------------------------------------\")\n",
    "\n",
    "fin = time.time()\n",
    "print(\"El tiempo de ejecucion es : \",fin-inicio)\n",
    "    \n",
    "    "
   ]
  },
  {
   "cell_type": "markdown",
   "id": "5f3c14c7",
   "metadata": {},
   "source": [
    "El segundo método de falsa posición cae en un problema de estancamiento, que se produce debido a los limites del intervalo correspondiente a cada iteración. Debido a esto el método no logra alcanzar la solución en menos de 10 iteraciones con un índice de error menor al 1%."
   ]
  },
  {
   "cell_type": "code",
   "execution_count": 51,
   "id": "62ad2d7b",
   "metadata": {
    "scrolled": true
   },
   "outputs": [
    {
     "name": "stdout",
     "output_type": "stream",
     "text": [
      "Iteración :  1 - 10\n",
      "Error Abs :  100.0\n",
      "-32.258214681590175  /  0.7998732909044218  /  0.8130321830223047\n",
      "La solución aproximada en la i-esima iteración es x= 2.4508314768807655\n",
      "----------------------------------------------------------------\n",
      "Iteración :  2 - 10\n",
      "Error Abs :  1.9637932029769514\n",
      "-32.258214681590175  /  0.7861233019120436  /  0.7998732909044218\n",
      "La solución aproximada en la i-esima iteración es x= 2.403629170603679\n",
      "----------------------------------------------------------------\n",
      "Iteración :  3 - 10\n",
      "Error Abs :  3.8213270328321705\n",
      "-16.129107340795088  /  0.7569795283164076  /  0.7861233019120436\n",
      "La solución aproximada en la i-esima iteración es x= 2.315159360122186\n",
      "----------------------------------------------------------------\n",
      "Iteración :  4 - 10\n",
      "Error Abs :  7.213096996955555\n",
      "-8.064553670397544  /  0.6923149683738206  /  0.7569795283164076\n",
      "La solución aproximada en la i-esima iteración es x= 2.159399760822064\n",
      "----------------------------------------------------------------\n",
      "Iteración :  5 - 10\n",
      "Error Abs :  12.68937966775941\n",
      "-4.032276835198772  /  0.5405831138623114  /  0.6923149683738206\n",
      "La solución aproximada en la i-esima iteración es x= 1.9162407027073833\n",
      "----------------------------------------------------------------\n",
      "Iteración :  6 - 10\n",
      "Error Abs :  18.520844988110202\n",
      "-2.016138417599386  /  0.19362196140410537  /  0.5405831138623114\n",
      "La solución aproximada en la i-esima iteración es x= 1.6167963558643352\n",
      "----------------------------------------------------------------\n",
      "Iteración :  7 - 10\n",
      "Error Abs :  12.523432633906967\n",
      "-1.008069208799693  /  -0.186182107708446  /  0.19362196140410537\n",
      "La solución aproximada en la i-esima iteración es x= 1.4368530340916226\n",
      "----------------------------------------------------------------\n",
      "Iteración :  8 - 10\n",
      "Error Abs :  5.7839760448462885\n",
      "-0.186182107708446  /  0.02340947608170585  /  0.19362196140410537\n",
      "La solución aproximada en la i-esima iteración es x= 1.5250622704854924\n",
      "----------------------------------------------------------------\n",
      "Iteración :  9 - 10\n",
      "Error Abs :  0.6502181087196074\n",
      "-0.186182107708446  /  0.0024906268611598614  /  0.02340947608170585\n",
      "El error alcanzo el 1%\n",
      "La solución aproximada en la i-esima iteración es x= 1.5152101000299492\n",
      "----------------------------------------------------------------\n",
      "El tiempo de ejecucion es :  0.0070040225982666016\n"
     ]
    }
   ],
   "source": [
    "# METODO FALSA POSICION MODIFICADA\n",
    "import matplotlib.pyplot as plt\n",
    "from sympy.solvers import solve\n",
    "from sympy import*\n",
    "import numpy as np\n",
    "import time\n",
    "\n",
    "\n",
    "def f(x): return (1-(400/(9.81*( (3*x+((x**2)/2))**3)))*((3+x)))\n",
    "inicio = time.time()\n",
    "Estado = 'True'\n",
    "\n",
    "xi=0.5\n",
    "xu=2.5\n",
    "xr=0\n",
    "e=1\n",
    "i = 0\n",
    "il = 0\n",
    "iu = 0\n",
    "fi=f(xi)\n",
    "fu=f(xu)\n",
    "imax = 10\n",
    "lista3 = []\n",
    "\n",
    "while Estado == 'True' :\n",
    "    xrant=xr\n",
    "    xr = xu-fu*(xi-xu)/(fi-fu)\n",
    "    fr=f(xr)\n",
    "    i = i + 1\n",
    "    print(\"Iteración : \",i,\"-\",imax)\n",
    "    if xr != 0:\n",
    "        eabs = np.absolute((xr-xrant)/(xr))*100\n",
    "        print(\"Error Abs : \",eabs)\n",
    "        lista3.append(eabs)\n",
    "    test = fi*fr\n",
    "    print(fi,\" / \",fr,\" / \",fu)\n",
    "    if test < 0:\n",
    "        xu = xr\n",
    "        fu = f(xu)\n",
    "        iu = 0\n",
    "        il = il + 1\n",
    "        if il >= 2:\n",
    "            fi=fi/2\n",
    "    else:\n",
    "        xi = xr\n",
    "        fi = f(xi)\n",
    "        il = 0\n",
    "        iu = iu + 1\n",
    "        if iu >= 2 :\n",
    "            fu=fu/2\n",
    "        else:\n",
    "            ea = 0\n",
    "    if i >= imax or eabs <= e:\n",
    "        Estado = 'False'\n",
    "        if eabs < e:\n",
    "            print(\"El error alcanzo el 1%\")\n",
    "            \n",
    "    print(\"La solución aproximada en la i-esima iteración es x=\",xr)\n",
    "    print(\"----------------------------------------------------------------\")\n",
    "fin = time.time()\n",
    "print(\"El tiempo de ejecucion es : \",fin-inicio)\n"
   ]
  },
  {
   "cell_type": "markdown",
   "id": "73eee41a",
   "metadata": {},
   "source": [
    "Ya teniendo todos los resultados obtenidos entre los diferentes métodos empleados podemos concluir que todos los resultados fueron diferentes, el segundo método no llego exactamente al resultado optimo a diferencia del primero y tercer método, ya que el primer método logro llegar, pero en la iteración numero 7, siendo una de las capaces de optimizar el resultado, y el ultimo método alcanzo en la iteracion numero 9 con un error del 1%.\n",
    "\n",
    "Ya con los resultados ya diferenciados, podemos concluir que el método mas optimizado de los tres fue el método de falsa posición modificada, ya como se dijo en la sección de resultados, este método es como el segundo pero mejor, ya que este método combina la bisección y el método de la secante."
   ]
  },
  {
   "cell_type": "code",
   "execution_count": 39,
   "id": "4d9c4668",
   "metadata": {
    "scrolled": true
   },
   "outputs": [
    {
     "name": "stdout",
     "output_type": "stream",
     "text": [
      "8\n"
     ]
    },
    {
     "data": {
      "image/png": "[encoded data removed]",
      "text/plain": [
       "<Figure size 432x288 with 1 Axes>"
      ]
     },
     "metadata": {
      "needs_background": "light"
     },
     "output_type": "display_data"
    }
   ],
   "source": [
    "import matplotlib.pyplot as plt\n",
    "# Crear la figura y los ejes\n",
    "fig, ax = plt.subplots()\n",
    "# Dibujar puntos\n",
    "print(len(lista1))\n",
    "ax.bar([1,2,3,4,5,6,7,8] ,lista1)\n",
    "# Guardar el gráfico en formato png\n",
    "# Mostrar el gráfico\n",
    "plt.show()"
   ]
  },
  {
   "cell_type": "code",
   "execution_count": 44,
   "id": "c58d94a1",
   "metadata": {},
   "outputs": [
    {
     "name": "stdout",
     "output_type": "stream",
     "text": [
      "10\n"
     ]
    },
    {
     "data": {
      "image/png": "[encoded data removed]",
      "text/plain": [
       "<Figure size 432x288 with 1 Axes>"
      ]
     },
     "metadata": {
      "needs_background": "light"
     },
     "output_type": "display_data"
    }
   ],
   "source": [
    "import matplotlib.pyplot as plt\n",
    "# Crear la figura y los ejes\n",
    "fig, ax = plt.subplots()\n",
    "# Dibujar puntos\n",
    "print(len(lista2))\n",
    "ax.bar([1,2,3,4,5,6,7,8,9,10] , lista2)\n",
    "# Guardar el gráfico en formato png\n",
    "# Mostrar el gráfico\n",
    "plt.show()"
   ]
  },
  {
   "cell_type": "code",
   "execution_count": 52,
   "id": "cd4ff688",
   "metadata": {},
   "outputs": [
    {
     "name": "stdout",
     "output_type": "stream",
     "text": [
      "[100.0, 1.9637932029769514, 3.8213270328321705, 7.213096996955555, 12.68937966775941, 18.520844988110202, 12.523432633906967, 5.7839760448462885, 0.6502181087196074]\n"
     ]
    },
    {
     "data": {
      "image/png": "[encoded data removed]",
      "text/plain": [
       "<Figure size 432x288 with 1 Axes>"
      ]
     },
     "metadata": {
      "needs_background": "light"
     },
     "output_type": "display_data"
    }
   ],
   "source": [
    "import matplotlib.pyplot as plt\n",
    "# Crear la figura y los ejes\n",
    "fig, ax = plt.subplots()\n",
    "# Dibujar puntos\n",
    "print(lista3)\n",
    "ax.bar([1,2,3,4,5,6,7,8,9] , lista3)\n",
    "# Guardar el gráfico en formato png\n",
    "# Mostrar el gráfico\n",
    "plt.show()"
   ]
  },
  {
   "cell_type": "code",
   "execution_count": null,
   "id": "7786af2e",
   "metadata": {},
   "outputs": [],
   "source": []
  }
 ],
 "metadata": {
  "kernelspec": {
   "display_name": "Python 3 (ipykernel)",
   "language": "python",
   "name": "python3"
  },
  "language_info": {
   "codemirror_mode": {
    "name": "ipython",
    "version": 3
   },
   "file_extension": ".py",
   "mimetype": "text/x-python",
   "name": "python",
   "nbconvert_exporter": "python",
   "pygments_lexer": "ipython3",
   "version": "3.9.7"
  }
 },
 "nbformat": 4,
 "nbformat_minor": 5
}
